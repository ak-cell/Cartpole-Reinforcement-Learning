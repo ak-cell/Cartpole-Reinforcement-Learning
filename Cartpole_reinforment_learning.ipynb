{
 "cells": [
  {
   "cell_type": "code",
   "execution_count": 1,
   "metadata": {},
   "outputs": [
    {
     "name": "stderr",
     "output_type": "stream",
     "text": [
      "Using TensorFlow backend.\n"
     ]
    }
   ],
   "source": [
    "import numpy as np\n",
    "import gym\n",
    "from keras.models import Sequential\n",
    "from keras.layers import Dense,Activation,Flatten\n",
    "from keras.optimizers import Adam\n",
    "\n",
    "from rl.agents.dqn import DQNAgent\n",
    "from rl.policy import EpsGreedyQPolicy\n",
    "from rl.memory import SequentialMemory"
   ]
  },
  {
   "cell_type": "code",
   "execution_count": 3,
   "metadata": {},
   "outputs": [],
   "source": [
    "#Setting variable\n",
    "ENV_NAME='CartPole-v0'\n",
    "#Get the environment and extract the number of actions\n",
    "#in the cartpole problem\n",
    "env=gym.make(ENV_NAME)\n",
    "np.random.seed(123)\n",
    "env.seed(123)\n",
    "nb_actions=env.action_space.n"
   ]
  },
  {
   "cell_type": "code",
   "execution_count": 4,
   "metadata": {},
   "outputs": [
    {
     "name": "stdout",
     "output_type": "stream",
     "text": [
      "WARNING:tensorflow:From C:\\Users\\aksha\\Anaconda3\\lib\\site-packages\\tensorflow\\python\\framework\\op_def_library.py:263: colocate_with (from tensorflow.python.framework.ops) is deprecated and will be removed in a future version.\n",
      "Instructions for updating:\n",
      "Colocations handled automatically by placer.\n",
      "_________________________________________________________________\n",
      "Layer (type)                 Output Shape              Param #   \n",
      "=================================================================\n",
      "flatten_1 (Flatten)          (None, 4)                 0         \n",
      "_________________________________________________________________\n",
      "dense_1 (Dense)              (None, 16)                80        \n",
      "_________________________________________________________________\n",
      "activation_1 (Activation)    (None, 16)                0         \n",
      "_________________________________________________________________\n",
      "dense_2 (Dense)              (None, 2)                 34        \n",
      "_________________________________________________________________\n",
      "activation_2 (Activation)    (None, 2)                 0         \n",
      "=================================================================\n",
      "Total params: 114\n",
      "Trainable params: 114\n",
      "Non-trainable params: 0\n",
      "_________________________________________________________________\n",
      "None\n"
     ]
    }
   ],
   "source": [
    "#We will build a simple single hidden layer neural network model\n",
    "model=Sequential()\n",
    "model.add(Flatten(input_shape=(1,)+env.observation_space.shape))\n",
    "model.add(Dense(16))\n",
    "model.add(Activation('relu'))\n",
    "model.add(Dense(nb_actions))\n",
    "model.add(Activation('linear'))\n",
    "print(model.summary())"
   ]
  },
  {
   "cell_type": "code",
   "execution_count": 10,
   "metadata": {},
   "outputs": [
    {
     "name": "stdout",
     "output_type": "stream",
     "text": [
      "Training for 5000 steps ...\n"
     ]
    },
    {
     "name": "stderr",
     "output_type": "stream",
     "text": [
      "C:\\Users\\aksha\\Anaconda3\\lib\\site-packages\\keras_rl-0.4.2-py3.6.egg\\rl\\memory.py:39: UserWarning: Not enough entries to sample without replacement. Consider increasing your warm-up phase to avoid oversampling!\n",
      "  warnings.warn('Not enough entries to sample without replacement. Consider increasing your warm-up phase to avoid oversampling!')\n"
     ]
    },
    {
     "name": "stdout",
     "output_type": "stream",
     "text": [
      "WARNING:tensorflow:From C:\\Users\\aksha\\Anaconda3\\lib\\site-packages\\tensorflow\\python\\ops\\math_ops.py:3066: to_int32 (from tensorflow.python.ops.math_ops) is deprecated and will be removed in a future version.\n",
      "Instructions for updating:\n",
      "Use tf.cast instead.\n",
      "   83/5000: episode: 1, duration: 7.874s, episode steps: 83, steps per second: 11, episode reward: 83.000, mean reward: 1.000 [1.000, 1.000], mean action: 0.518 [0.000, 1.000], mean observation: 0.050 [-0.270, 0.792], loss: 0.407578, mean_absolute_error: 0.482795, mean_q: 0.059641\n",
      "  119/5000: episode: 2, duration: 0.605s, episode steps: 36, steps per second: 60, episode reward: 36.000, mean reward: 1.000 [1.000, 1.000], mean action: 0.528 [0.000, 1.000], mean observation: 0.160 [-0.159, 0.653], loss: 0.284334, mean_absolute_error: 0.406116, mean_q: 0.203982\n",
      "  169/5000: episode: 3, duration: 0.835s, episode steps: 50, steps per second: 60, episode reward: 50.000, mean reward: 1.000 [1.000, 1.000], mean action: 0.520 [0.000, 1.000], mean observation: 0.082 [-0.351, 0.843], loss: 0.202572, mean_absolute_error: 0.388582, mean_q: 0.325452\n",
      "  205/5000: episode: 4, duration: 0.606s, episode steps: 36, steps per second: 59, episode reward: 36.000, mean reward: 1.000 [1.000, 1.000], mean action: 0.500 [0.000, 1.000], mean observation: 0.090 [-0.228, 1.010], loss: 0.134742, mean_absolute_error: 0.382893, mean_q: 0.452513\n",
      "  268/5000: episode: 5, duration: 1.082s, episode steps: 63, steps per second: 58, episode reward: 63.000, mean reward: 1.000 [1.000, 1.000], mean action: 0.508 [0.000, 1.000], mean observation: 0.012 [-0.415, 0.746], loss: 0.069111, mean_absolute_error: 0.379590, mean_q: 0.611114\n",
      "  304/5000: episode: 6, duration: 0.620s, episode steps: 36, steps per second: 58, episode reward: 36.000, mean reward: 1.000 [1.000, 1.000], mean action: 0.528 [0.000, 1.000], mean observation: 0.094 [-0.207, 0.766], loss: 0.027703, mean_absolute_error: 0.379482, mean_q: 0.749882\n",
      "  350/5000: episode: 7, duration: 0.767s, episode steps: 46, steps per second: 60, episode reward: 46.000, mean reward: 1.000 [1.000, 1.000], mean action: 0.522 [0.000, 1.000], mean observation: 0.069 [-0.285, 0.757], loss: 0.013466, mean_absolute_error: 0.395333, mean_q: 0.838478\n",
      "  392/5000: episode: 8, duration: 0.701s, episode steps: 42, steps per second: 60, episode reward: 42.000, mean reward: 1.000 [1.000, 1.000], mean action: 0.524 [0.000, 1.000], mean observation: 0.089 [-0.214, 0.673], loss: 0.007289, mean_absolute_error: 0.403830, mean_q: 0.895173\n",
      "  428/5000: episode: 9, duration: 0.601s, episode steps: 36, steps per second: 60, episode reward: 36.000, mean reward: 1.000 [1.000, 1.000], mean action: 0.528 [0.000, 1.000], mean observation: 0.105 [-0.174, 0.852], loss: 0.005839, mean_absolute_error: 0.411651, mean_q: 0.917122\n",
      "  457/5000: episode: 10, duration: 0.482s, episode steps: 29, steps per second: 60, episode reward: 29.000, mean reward: 1.000 [1.000, 1.000], mean action: 0.552 [0.000, 1.000], mean observation: 0.098 [-0.411, 0.721], loss: 0.005702, mean_absolute_error: 0.418697, mean_q: 0.930086\n",
      "  505/5000: episode: 11, duration: 0.803s, episode steps: 48, steps per second: 60, episode reward: 48.000, mean reward: 1.000 [1.000, 1.000], mean action: 0.521 [0.000, 1.000], mean observation: 0.087 [-0.254, 0.680], loss: 0.004856, mean_absolute_error: 0.419550, mean_q: 0.930083\n",
      "  556/5000: episode: 12, duration: 0.853s, episode steps: 51, steps per second: 60, episode reward: 51.000, mean reward: 1.000 [1.000, 1.000], mean action: 0.510 [0.000, 1.000], mean observation: 0.107 [-0.164, 1.003], loss: 0.003676, mean_absolute_error: 0.417447, mean_q: 0.931682\n",
      "  614/5000: episode: 13, duration: 0.972s, episode steps: 58, steps per second: 60, episode reward: 58.000, mean reward: 1.000 [1.000, 1.000], mean action: 0.517 [0.000, 1.000], mean observation: 0.067 [-0.347, 0.848], loss: 0.003237, mean_absolute_error: 0.417324, mean_q: 0.932788\n",
      "  669/5000: episode: 14, duration: 0.917s, episode steps: 55, steps per second: 60, episode reward: 55.000, mean reward: 1.000 [1.000, 1.000], mean action: 0.527 [0.000, 1.000], mean observation: 0.075 [-0.201, 0.788], loss: 0.003073, mean_absolute_error: 0.421427, mean_q: 0.938825\n",
      "  707/5000: episode: 15, duration: 0.635s, episode steps: 38, steps per second: 60, episode reward: 38.000, mean reward: 1.000 [1.000, 1.000], mean action: 0.526 [0.000, 1.000], mean observation: 0.082 [-0.265, 0.758], loss: 0.002518, mean_absolute_error: 0.423273, mean_q: 0.940784\n",
      "  746/5000: episode: 16, duration: 0.650s, episode steps: 39, steps per second: 60, episode reward: 39.000, mean reward: 1.000 [1.000, 1.000], mean action: 0.538 [0.000, 1.000], mean observation: 0.123 [-0.233, 0.694], loss: 0.002193, mean_absolute_error: 0.423859, mean_q: 0.942187\n",
      "  878/5000: episode: 17, duration: 2.212s, episode steps: 132, steps per second: 60, episode reward: 132.000, mean reward: 1.000 [1.000, 1.000], mean action: 0.485 [0.000, 1.000], mean observation: -0.220 [-1.018, 0.477], loss: 0.001887, mean_absolute_error: 0.427465, mean_q: 0.944109\n",
      "  939/5000: episode: 18, duration: 1.019s, episode steps: 61, steps per second: 60, episode reward: 61.000, mean reward: 1.000 [1.000, 1.000], mean action: 0.508 [0.000, 1.000], mean observation: -0.082 [-1.439, 0.452], loss: 0.001536, mean_absolute_error: 0.433361, mean_q: 0.956940\n",
      " 1042/5000: episode: 19, duration: 1.733s, episode steps: 103, steps per second: 59, episode reward: 103.000, mean reward: 1.000 [1.000, 1.000], mean action: 0.515 [0.000, 1.000], mean observation: 0.054 [-0.360, 0.692], loss: 0.001112, mean_absolute_error: 0.441552, mean_q: 0.963078\n",
      " 1109/5000: episode: 20, duration: 1.118s, episode steps: 67, steps per second: 60, episode reward: 67.000, mean reward: 1.000 [1.000, 1.000], mean action: 0.522 [0.000, 1.000], mean observation: -0.017 [-1.580, 0.621], loss: 0.000911, mean_absolute_error: 0.441750, mean_q: 0.964901\n",
      " 1156/5000: episode: 21, duration: 0.785s, episode steps: 47, steps per second: 60, episode reward: 47.000, mean reward: 1.000 [1.000, 1.000], mean action: 0.532 [0.000, 1.000], mean observation: 0.139 [-0.262, 0.829], loss: 0.000982, mean_absolute_error: 0.443438, mean_q: 0.963752\n",
      " 1192/5000: episode: 22, duration: 0.601s, episode steps: 36, steps per second: 60, episode reward: 36.000, mean reward: 1.000 [1.000, 1.000], mean action: 0.500 [0.000, 1.000], mean observation: -0.078 [-1.048, 0.379], loss: 0.000701, mean_absolute_error: 0.438528, mean_q: 0.961079\n",
      " 1247/5000: episode: 23, duration: 0.917s, episode steps: 55, steps per second: 60, episode reward: 55.000, mean reward: 1.000 [1.000, 1.000], mean action: 0.527 [0.000, 1.000], mean observation: 0.150 [-0.270, 0.758], loss: 0.000925, mean_absolute_error: 0.444741, mean_q: 0.965555\n",
      " 1295/5000: episode: 24, duration: 0.801s, episode steps: 48, steps per second: 60, episode reward: 48.000, mean reward: 1.000 [1.000, 1.000], mean action: 0.500 [0.000, 1.000], mean observation: -0.050 [-1.073, 0.405], loss: 0.000768, mean_absolute_error: 0.444499, mean_q: 0.965870\n",
      " 1321/5000: episode: 25, duration: 0.437s, episode steps: 26, steps per second: 59, episode reward: 26.000, mean reward: 1.000 [1.000, 1.000], mean action: 0.538 [0.000, 1.000], mean observation: -0.114 [-1.335, 0.407], loss: 0.000890, mean_absolute_error: 0.443038, mean_q: 0.962486\n",
      " 1452/5000: episode: 26, duration: 2.187s, episode steps: 131, steps per second: 60, episode reward: 131.000, mean reward: 1.000 [1.000, 1.000], mean action: 0.496 [0.000, 1.000], mean observation: 0.066 [-0.764, 0.592], loss: 0.000791, mean_absolute_error: 0.446200, mean_q: 0.963823\n",
      " 1478/5000: episode: 27, duration: 0.434s, episode steps: 26, steps per second: 60, episode reward: 26.000, mean reward: 1.000 [1.000, 1.000], mean action: 0.500 [0.000, 1.000], mean observation: -0.115 [-1.041, 0.383], loss: 0.000626, mean_absolute_error: 0.441313, mean_q: 0.962370\n",
      " 1536/5000: episode: 28, duration: 0.967s, episode steps: 58, steps per second: 60, episode reward: 58.000, mean reward: 1.000 [1.000, 1.000], mean action: 0.517 [0.000, 1.000], mean observation: -0.057 [-1.198, 0.600], loss: 0.000562, mean_absolute_error: 0.442408, mean_q: 0.960661\n",
      " 1580/5000: episode: 29, duration: 0.734s, episode steps: 44, steps per second: 60, episode reward: 44.000, mean reward: 1.000 [1.000, 1.000], mean action: 0.500 [0.000, 1.000], mean observation: -0.060 [-1.209, 0.289], loss: 0.000793, mean_absolute_error: 0.445812, mean_q: 0.960673\n"
     ]
    },
    {
     "name": "stdout",
     "output_type": "stream",
     "text": [
      " 1633/5000: episode: 30, duration: 0.885s, episode steps: 53, steps per second: 60, episode reward: 53.000, mean reward: 1.000 [1.000, 1.000], mean action: 0.509 [0.000, 1.000], mean observation: -0.055 [-1.178, 0.322], loss: 0.000712, mean_absolute_error: 0.445366, mean_q: 0.960351\n",
      " 1660/5000: episode: 31, duration: 0.457s, episode steps: 27, steps per second: 59, episode reward: 27.000, mean reward: 1.000 [1.000, 1.000], mean action: 0.519 [0.000, 1.000], mean observation: -0.117 [-1.158, 0.358], loss: 0.000626, mean_absolute_error: 0.445386, mean_q: 0.961402\n",
      " 1763/5000: episode: 32, duration: 1.719s, episode steps: 103, steps per second: 60, episode reward: 103.000, mean reward: 1.000 [1.000, 1.000], mean action: 0.515 [0.000, 1.000], mean observation: 0.102 [-0.279, 0.993], loss: 0.000576, mean_absolute_error: 0.445601, mean_q: 0.960093\n",
      " 1799/5000: episode: 33, duration: 0.599s, episode steps: 36, steps per second: 60, episode reward: 36.000, mean reward: 1.000 [1.000, 1.000], mean action: 0.472 [0.000, 1.000], mean observation: -0.077 [-1.000, 0.414], loss: 0.000513, mean_absolute_error: 0.448649, mean_q: 0.960095\n",
      " 1849/5000: episode: 34, duration: 0.839s, episode steps: 50, steps per second: 60, episode reward: 50.000, mean reward: 1.000 [1.000, 1.000], mean action: 0.500 [0.000, 1.000], mean observation: -0.072 [-1.108, 0.252], loss: 0.000502, mean_absolute_error: 0.446087, mean_q: 0.956221\n",
      " 1947/5000: episode: 35, duration: 1.653s, episode steps: 98, steps per second: 59, episode reward: 98.000, mean reward: 1.000 [1.000, 1.000], mean action: 0.490 [0.000, 1.000], mean observation: -0.001 [-0.765, 0.550], loss: 0.000544, mean_absolute_error: 0.446077, mean_q: 0.960151\n",
      " 1979/5000: episode: 36, duration: 0.534s, episode steps: 32, steps per second: 60, episode reward: 32.000, mean reward: 1.000 [1.000, 1.000], mean action: 0.469 [0.000, 1.000], mean observation: -0.116 [-0.779, 0.377], loss: 0.000488, mean_absolute_error: 0.447025, mean_q: 0.960550\n",
      " 2011/5000: episode: 37, duration: 0.533s, episode steps: 32, steps per second: 60, episode reward: 32.000, mean reward: 1.000 [1.000, 1.000], mean action: 0.469 [0.000, 1.000], mean observation: -0.105 [-0.685, 0.409], loss: 0.000523, mean_absolute_error: 0.445995, mean_q: 0.955913\n",
      " 2109/5000: episode: 38, duration: 1.635s, episode steps: 98, steps per second: 60, episode reward: 98.000, mean reward: 1.000 [1.000, 1.000], mean action: 0.520 [0.000, 1.000], mean observation: 0.120 [-0.489, 0.925], loss: 0.000443, mean_absolute_error: 0.446803, mean_q: 0.956195\n",
      " 2143/5000: episode: 39, duration: 0.566s, episode steps: 34, steps per second: 60, episode reward: 34.000, mean reward: 1.000 [1.000, 1.000], mean action: 0.471 [0.000, 1.000], mean observation: -0.111 [-0.716, 0.266], loss: 0.000528, mean_absolute_error: 0.445790, mean_q: 0.957129\n",
      " 2203/5000: episode: 40, duration: 1.001s, episode steps: 60, steps per second: 60, episode reward: 60.000, mean reward: 1.000 [1.000, 1.000], mean action: 0.483 [0.000, 1.000], mean observation: -0.070 [-0.752, 0.189], loss: 0.000357, mean_absolute_error: 0.445829, mean_q: 0.955213\n",
      " 2266/5000: episode: 41, duration: 1.052s, episode steps: 63, steps per second: 60, episode reward: 63.000, mean reward: 1.000 [1.000, 1.000], mean action: 0.540 [0.000, 1.000], mean observation: 0.183 [-0.292, 0.903], loss: 0.000378, mean_absolute_error: 0.447584, mean_q: 0.957006\n",
      " 2312/5000: episode: 42, duration: 0.785s, episode steps: 46, steps per second: 59, episode reward: 46.000, mean reward: 1.000 [1.000, 1.000], mean action: 0.478 [0.000, 1.000], mean observation: -0.101 [-0.727, 0.342], loss: 0.000356, mean_absolute_error: 0.446838, mean_q: 0.955137\n",
      " 2378/5000: episode: 43, duration: 1.106s, episode steps: 66, steps per second: 60, episode reward: 66.000, mean reward: 1.000 [1.000, 1.000], mean action: 0.530 [0.000, 1.000], mean observation: 0.171 [-0.259, 0.870], loss: 0.000416, mean_absolute_error: 0.446822, mean_q: 0.955626\n",
      " 2411/5000: episode: 44, duration: 0.552s, episode steps: 33, steps per second: 60, episode reward: 33.000, mean reward: 1.000 [1.000, 1.000], mean action: 0.576 [0.000, 1.000], mean observation: -0.068 [-2.140, 1.043], loss: 0.000441, mean_absolute_error: 0.446503, mean_q: 0.954471\n",
      " 2472/5000: episode: 45, duration: 1.016s, episode steps: 61, steps per second: 60, episode reward: 61.000, mean reward: 1.000 [1.000, 1.000], mean action: 0.475 [0.000, 1.000], mean observation: -0.056 [-0.702, 0.434], loss: 0.000356, mean_absolute_error: 0.446487, mean_q: 0.953455\n",
      " 2633/5000: episode: 46, duration: 2.685s, episode steps: 161, steps per second: 60, episode reward: 161.000, mean reward: 1.000 [1.000, 1.000], mean action: 0.516 [0.000, 1.000], mean observation: 0.214 [-0.463, 1.135], loss: 0.000339, mean_absolute_error: 0.443920, mean_q: 0.952782\n",
      " 2694/5000: episode: 47, duration: 1.017s, episode steps: 61, steps per second: 60, episode reward: 61.000, mean reward: 1.000 [1.000, 1.000], mean action: 0.475 [0.000, 1.000], mean observation: -0.073 [-0.794, 0.430], loss: 0.000325, mean_absolute_error: 0.443026, mean_q: 0.947524\n",
      " 2741/5000: episode: 48, duration: 0.783s, episode steps: 47, steps per second: 60, episode reward: 47.000, mean reward: 1.000 [1.000, 1.000], mean action: 0.489 [0.000, 1.000], mean observation: -0.106 [-0.814, 0.360], loss: 0.000379, mean_absolute_error: 0.441882, mean_q: 0.946837\n",
      " 2787/5000: episode: 49, duration: 0.767s, episode steps: 46, steps per second: 60, episode reward: 46.000, mean reward: 1.000 [1.000, 1.000], mean action: 0.478 [0.000, 1.000], mean observation: -0.090 [-0.719, 0.383], loss: 0.000340, mean_absolute_error: 0.443272, mean_q: 0.946886\n",
      " 2821/5000: episode: 50, duration: 0.567s, episode steps: 34, steps per second: 60, episode reward: 34.000, mean reward: 1.000 [1.000, 1.000], mean action: 0.471 [0.000, 1.000], mean observation: -0.125 [-0.723, 0.183], loss: 0.000266, mean_absolute_error: 0.443158, mean_q: 0.948934\n",
      " 2860/5000: episode: 51, duration: 0.655s, episode steps: 39, steps per second: 60, episode reward: 39.000, mean reward: 1.000 [1.000, 1.000], mean action: 0.487 [0.000, 1.000], mean observation: -0.092 [-0.952, 0.237], loss: 0.000367, mean_absolute_error: 0.445060, mean_q: 0.950134\n",
      " 2891/5000: episode: 52, duration: 0.523s, episode steps: 31, steps per second: 59, episode reward: 31.000, mean reward: 1.000 [1.000, 1.000], mean action: 0.484 [0.000, 1.000], mean observation: -0.124 [-0.774, 0.170], loss: 0.000257, mean_absolute_error: 0.444457, mean_q: 0.949218\n",
      " 2923/5000: episode: 53, duration: 0.539s, episode steps: 32, steps per second: 59, episode reward: 32.000, mean reward: 1.000 [1.000, 1.000], mean action: 0.469 [0.000, 1.000], mean observation: -0.120 [-0.744, 0.354], loss: 0.000243, mean_absolute_error: 0.440635, mean_q: 0.948166\n",
      " 2966/5000: episode: 54, duration: 0.720s, episode steps: 43, steps per second: 60, episode reward: 43.000, mean reward: 1.000 [1.000, 1.000], mean action: 0.488 [0.000, 1.000], mean observation: -0.092 [-0.767, 0.197], loss: 0.000335, mean_absolute_error: 0.442289, mean_q: 0.951820\n",
      " 3019/5000: episode: 55, duration: 0.888s, episode steps: 53, steps per second: 60, episode reward: 53.000, mean reward: 1.000 [1.000, 1.000], mean action: 0.472 [0.000, 1.000], mean observation: -0.071 [-0.815, 0.416], loss: 0.000264, mean_absolute_error: 0.441945, mean_q: 0.948386\n",
      " 3051/5000: episode: 56, duration: 0.533s, episode steps: 32, steps per second: 60, episode reward: 32.000, mean reward: 1.000 [1.000, 1.000], mean action: 0.469 [0.000, 1.000], mean observation: -0.123 [-0.662, 0.174], loss: 0.000272, mean_absolute_error: 0.444779, mean_q: 0.947834\n",
      " 3113/5000: episode: 57, duration: 1.034s, episode steps: 62, steps per second: 60, episode reward: 62.000, mean reward: 1.000 [1.000, 1.000], mean action: 0.484 [0.000, 1.000], mean observation: -0.071 [-0.832, 0.313], loss: 0.000259, mean_absolute_error: 0.443399, mean_q: 0.946712\n",
      " 3152/5000: episode: 58, duration: 0.652s, episode steps: 39, steps per second: 60, episode reward: 39.000, mean reward: 1.000 [1.000, 1.000], mean action: 0.462 [0.000, 1.000], mean observation: -0.102 [-0.713, 0.420], loss: 0.000315, mean_absolute_error: 0.445939, mean_q: 0.949256\n"
     ]
    },
    {
     "name": "stdout",
     "output_type": "stream",
     "text": [
      " 3225/5000: episode: 59, duration: 1.217s, episode steps: 73, steps per second: 60, episode reward: 73.000, mean reward: 1.000 [1.000, 1.000], mean action: 0.493 [0.000, 1.000], mean observation: -0.033 [-0.968, 0.733], loss: 0.000308, mean_absolute_error: 0.443797, mean_q: 0.949199\n",
      " 3266/5000: episode: 60, duration: 0.683s, episode steps: 41, steps per second: 60, episode reward: 41.000, mean reward: 1.000 [1.000, 1.000], mean action: 0.488 [0.000, 1.000], mean observation: -0.102 [-0.787, 0.162], loss: 0.000228, mean_absolute_error: 0.444179, mean_q: 0.947762\n",
      " 3310/5000: episode: 61, duration: 0.733s, episode steps: 44, steps per second: 60, episode reward: 44.000, mean reward: 1.000 [1.000, 1.000], mean action: 0.477 [0.000, 1.000], mean observation: -0.104 [-0.774, 0.379], loss: 0.000211, mean_absolute_error: 0.441969, mean_q: 0.947054\n",
      " 3345/5000: episode: 62, duration: 0.584s, episode steps: 35, steps per second: 60, episode reward: 35.000, mean reward: 1.000 [1.000, 1.000], mean action: 0.486 [0.000, 1.000], mean observation: -0.119 [-0.802, 0.210], loss: 0.000208, mean_absolute_error: 0.445025, mean_q: 0.948015\n",
      " 3379/5000: episode: 63, duration: 0.570s, episode steps: 34, steps per second: 60, episode reward: 34.000, mean reward: 1.000 [1.000, 1.000], mean action: 0.471 [0.000, 1.000], mean observation: -0.111 [-0.794, 0.242], loss: 0.000205, mean_absolute_error: 0.441986, mean_q: 0.946647\n",
      " 3412/5000: episode: 64, duration: 0.551s, episode steps: 33, steps per second: 60, episode reward: 33.000, mean reward: 1.000 [1.000, 1.000], mean action: 0.485 [0.000, 1.000], mean observation: -0.103 [-0.974, 0.245], loss: 0.000254, mean_absolute_error: 0.442989, mean_q: 0.948560\n",
      " 3443/5000: episode: 65, duration: 0.517s, episode steps: 31, steps per second: 60, episode reward: 31.000, mean reward: 1.000 [1.000, 1.000], mean action: 0.452 [0.000, 1.000], mean observation: -0.126 [-0.642, 0.189], loss: 0.000204, mean_absolute_error: 0.446308, mean_q: 0.952565\n",
      " 3480/5000: episode: 66, duration: 0.640s, episode steps: 37, steps per second: 58, episode reward: 37.000, mean reward: 1.000 [1.000, 1.000], mean action: 0.486 [0.000, 1.000], mean observation: -0.112 [-0.845, 0.387], loss: 0.000218, mean_absolute_error: 0.444376, mean_q: 0.946949\n",
      " 3512/5000: episode: 67, duration: 0.529s, episode steps: 32, steps per second: 60, episode reward: 32.000, mean reward: 1.000 [1.000, 1.000], mean action: 0.469 [0.000, 1.000], mean observation: -0.121 [-0.723, 0.199], loss: 0.000206, mean_absolute_error: 0.445942, mean_q: 0.949061\n",
      " 3571/5000: episode: 68, duration: 0.984s, episode steps: 59, steps per second: 60, episode reward: 59.000, mean reward: 1.000 [1.000, 1.000], mean action: 0.475 [0.000, 1.000], mean observation: -0.057 [-0.692, 0.411], loss: 0.000234, mean_absolute_error: 0.444783, mean_q: 0.947413\n",
      " 3605/5000: episode: 69, duration: 0.566s, episode steps: 34, steps per second: 60, episode reward: 34.000, mean reward: 1.000 [1.000, 1.000], mean action: 0.471 [0.000, 1.000], mean observation: -0.103 [-0.725, 0.227], loss: 0.000244, mean_absolute_error: 0.445826, mean_q: 0.949007\n",
      " 3638/5000: episode: 70, duration: 0.549s, episode steps: 33, steps per second: 60, episode reward: 33.000, mean reward: 1.000 [1.000, 1.000], mean action: 0.485 [0.000, 1.000], mean observation: -0.078 [-0.934, 0.239], loss: 0.000244, mean_absolute_error: 0.444125, mean_q: 0.945891\n",
      " 3778/5000: episode: 71, duration: 2.341s, episode steps: 140, steps per second: 60, episode reward: 140.000, mean reward: 1.000 [1.000, 1.000], mean action: 0.507 [0.000, 1.000], mean observation: 0.130 [-0.518, 0.936], loss: 0.000201, mean_absolute_error: 0.446103, mean_q: 0.948852\n",
      " 3850/5000: episode: 72, duration: 1.213s, episode steps: 72, steps per second: 59, episode reward: 72.000, mean reward: 1.000 [1.000, 1.000], mean action: 0.528 [0.000, 1.000], mean observation: 0.146 [-0.288, 0.746], loss: 0.000166, mean_absolute_error: 0.443306, mean_q: 0.946487\n",
      " 3883/5000: episode: 73, duration: 0.551s, episode steps: 33, steps per second: 60, episode reward: 33.000, mean reward: 1.000 [1.000, 1.000], mean action: 0.485 [0.000, 1.000], mean observation: -0.115 [-0.753, 0.354], loss: 0.000180, mean_absolute_error: 0.442202, mean_q: 0.941206\n",
      " 3959/5000: episode: 74, duration: 1.267s, episode steps: 76, steps per second: 60, episode reward: 76.000, mean reward: 1.000 [1.000, 1.000], mean action: 0.526 [0.000, 1.000], mean observation: 0.142 [-0.387, 0.752], loss: 0.000169, mean_absolute_error: 0.444273, mean_q: 0.944597\n",
      " 4014/5000: episode: 75, duration: 0.917s, episode steps: 55, steps per second: 60, episode reward: 55.000, mean reward: 1.000 [1.000, 1.000], mean action: 0.473 [0.000, 1.000], mean observation: -0.082 [-0.788, 0.412], loss: 0.000318, mean_absolute_error: 0.447934, mean_q: 0.946647\n",
      " 4065/5000: episode: 76, duration: 0.850s, episode steps: 51, steps per second: 60, episode reward: 51.000, mean reward: 1.000 [1.000, 1.000], mean action: 0.471 [0.000, 1.000], mean observation: -0.066 [-0.680, 0.438], loss: 0.000201, mean_absolute_error: 0.443922, mean_q: 0.944665\n",
      " 4096/5000: episode: 77, duration: 0.522s, episode steps: 31, steps per second: 59, episode reward: 31.000, mean reward: 1.000 [1.000, 1.000], mean action: 0.484 [0.000, 1.000], mean observation: -0.117 [-0.887, 0.226], loss: 0.000211, mean_absolute_error: 0.447073, mean_q: 0.947053\n",
      " 4176/5000: episode: 78, duration: 1.332s, episode steps: 80, steps per second: 60, episode reward: 80.000, mean reward: 1.000 [1.000, 1.000], mean action: 0.525 [0.000, 1.000], mean observation: 0.147 [-0.416, 0.758], loss: 0.000223, mean_absolute_error: 0.444101, mean_q: 0.944959\n",
      " 4218/5000: episode: 79, duration: 0.700s, episode steps: 42, steps per second: 60, episode reward: 42.000, mean reward: 1.000 [1.000, 1.000], mean action: 0.476 [0.000, 1.000], mean observation: -0.084 [-0.709, 0.238], loss: 0.000186, mean_absolute_error: 0.445760, mean_q: 0.946033\n",
      " 4251/5000: episode: 80, duration: 0.553s, episode steps: 33, steps per second: 60, episode reward: 33.000, mean reward: 1.000 [1.000, 1.000], mean action: 0.485 [0.000, 1.000], mean observation: -0.103 [-0.756, 0.434], loss: 0.000284, mean_absolute_error: 0.445329, mean_q: 0.945357\n",
      " 4297/5000: episode: 81, duration: 0.770s, episode steps: 46, steps per second: 60, episode reward: 46.000, mean reward: 1.000 [1.000, 1.000], mean action: 0.478 [0.000, 1.000], mean observation: -0.089 [-0.832, 0.215], loss: 0.000179, mean_absolute_error: 0.443738, mean_q: 0.944817\n",
      " 4330/5000: episode: 82, duration: 0.549s, episode steps: 33, steps per second: 60, episode reward: 33.000, mean reward: 1.000 [1.000, 1.000], mean action: 0.485 [0.000, 1.000], mean observation: -0.101 [-0.869, 0.263], loss: 0.000216, mean_absolute_error: 0.445677, mean_q: 0.946988\n",
      " 4368/5000: episode: 83, duration: 0.633s, episode steps: 38, steps per second: 60, episode reward: 38.000, mean reward: 1.000 [1.000, 1.000], mean action: 0.474 [0.000, 1.000], mean observation: -0.098 [-0.678, 0.304], loss: 0.000256, mean_absolute_error: 0.446605, mean_q: 0.946459\n",
      " 4411/5000: episode: 84, duration: 0.717s, episode steps: 43, steps per second: 60, episode reward: 43.000, mean reward: 1.000 [1.000, 1.000], mean action: 0.488 [0.000, 1.000], mean observation: -0.072 [-1.176, 0.642], loss: 0.000260, mean_absolute_error: 0.447628, mean_q: 0.946045\n",
      " 4467/5000: episode: 85, duration: 0.933s, episode steps: 56, steps per second: 60, episode reward: 56.000, mean reward: 1.000 [1.000, 1.000], mean action: 0.482 [0.000, 1.000], mean observation: -0.071 [-0.784, 0.291], loss: 0.000186, mean_absolute_error: 0.443009, mean_q: 0.947262\n",
      " 4511/5000: episode: 86, duration: 0.733s, episode steps: 44, steps per second: 60, episode reward: 44.000, mean reward: 1.000 [1.000, 1.000], mean action: 0.477 [0.000, 1.000], mean observation: -0.085 [-0.712, 0.211], loss: 0.000203, mean_absolute_error: 0.444422, mean_q: 0.944428\n",
      " 4546/5000: episode: 87, duration: 0.583s, episode steps: 35, steps per second: 60, episode reward: 35.000, mean reward: 1.000 [1.000, 1.000], mean action: 0.457 [0.000, 1.000], mean observation: -0.104 [-0.629, 0.249], loss: 0.000221, mean_absolute_error: 0.444791, mean_q: 0.943548\n"
     ]
    },
    {
     "name": "stdout",
     "output_type": "stream",
     "text": [
      " 4574/5000: episode: 88, duration: 0.467s, episode steps: 28, steps per second: 60, episode reward: 28.000, mean reward: 1.000 [1.000, 1.000], mean action: 0.464 [0.000, 1.000], mean observation: -0.111 [-0.830, 0.366], loss: 0.000381, mean_absolute_error: 0.449126, mean_q: 0.945426\n",
      " 4608/5000: episode: 89, duration: 0.567s, episode steps: 34, steps per second: 60, episode reward: 34.000, mean reward: 1.000 [1.000, 1.000], mean action: 0.471 [0.000, 1.000], mean observation: -0.097 [-0.955, 0.564], loss: 0.000235, mean_absolute_error: 0.448470, mean_q: 0.948240\n",
      " 4642/5000: episode: 90, duration: 0.565s, episode steps: 34, steps per second: 60, episode reward: 34.000, mean reward: 1.000 [1.000, 1.000], mean action: 0.471 [0.000, 1.000], mean observation: -0.107 [-0.725, 0.248], loss: 0.000210, mean_absolute_error: 0.445038, mean_q: 0.944205\n",
      " 4671/5000: episode: 91, duration: 0.483s, episode steps: 29, steps per second: 60, episode reward: 29.000, mean reward: 1.000 [1.000, 1.000], mean action: 0.448 [0.000, 1.000], mean observation: -0.110 [-0.747, 0.263], loss: 0.000181, mean_absolute_error: 0.445467, mean_q: 0.942539\n",
      " 4699/5000: episode: 92, duration: 0.466s, episode steps: 28, steps per second: 60, episode reward: 28.000, mean reward: 1.000 [1.000, 1.000], mean action: 0.464 [0.000, 1.000], mean observation: -0.096 [-0.761, 0.375], loss: 0.000230, mean_absolute_error: 0.447844, mean_q: 0.949235\n",
      " 4734/5000: episode: 93, duration: 0.583s, episode steps: 35, steps per second: 60, episode reward: 35.000, mean reward: 1.000 [1.000, 1.000], mean action: 0.486 [0.000, 1.000], mean observation: -0.118 [-0.777, 0.291], loss: 0.000149, mean_absolute_error: 0.446935, mean_q: 0.943943\n",
      " 4767/5000: episode: 94, duration: 0.557s, episode steps: 33, steps per second: 59, episode reward: 33.000, mean reward: 1.000 [1.000, 1.000], mean action: 0.485 [0.000, 1.000], mean observation: -0.105 [-0.691, 0.184], loss: 0.000307, mean_absolute_error: 0.445506, mean_q: 0.943011\n",
      " 4833/5000: episode: 95, duration: 1.109s, episode steps: 66, steps per second: 60, episode reward: 66.000, mean reward: 1.000 [1.000, 1.000], mean action: 0.530 [0.000, 1.000], mean observation: 0.167 [-0.322, 0.756], loss: 0.000192, mean_absolute_error: 0.443925, mean_q: 0.944268\n",
      " 4866/5000: episode: 96, duration: 0.552s, episode steps: 33, steps per second: 60, episode reward: 33.000, mean reward: 1.000 [1.000, 1.000], mean action: 0.455 [0.000, 1.000], mean observation: -0.086 [-1.010, 0.637], loss: 0.000206, mean_absolute_error: 0.444748, mean_q: 0.948714\n",
      " 4896/5000: episode: 97, duration: 0.503s, episode steps: 30, steps per second: 60, episode reward: 30.000, mean reward: 1.000 [1.000, 1.000], mean action: 0.467 [0.000, 1.000], mean observation: -0.115 [-0.728, 0.191], loss: 0.000187, mean_absolute_error: 0.445525, mean_q: 0.944246\n",
      " 4962/5000: episode: 98, duration: 1.104s, episode steps: 66, steps per second: 60, episode reward: 66.000, mean reward: 1.000 [1.000, 1.000], mean action: 0.530 [0.000, 1.000], mean observation: 0.142 [-0.427, 0.750], loss: 0.000190, mean_absolute_error: 0.446582, mean_q: 0.941459\n",
      "done, took 90.266 seconds\n"
     ]
    },
    {
     "data": {
      "text/plain": [
       "<keras.callbacks.History at 0x20ed86e14e0>"
      ]
     },
     "execution_count": 10,
     "metadata": {},
     "output_type": "execute_result"
    }
   ],
   "source": [
    "#Now configure and compile our agent.WE will set set our policy as Epsilon Greedy and our memory is \n",
    "#Sequential because we want to store the result of actions we performed and the rewards we get for \n",
    "#each action\n",
    "policy=EpsGreedyQPolicy()\n",
    "memory=SequentialMemory(limit=50000,window_length=1)\n",
    "dqn=DQNAgent(model=model,nb_actions=nb_actions,memory=memory,nb_steps_warmup=10,policy=policy)\n",
    "dqn.compile(Adam(lr=1e-3),metrics=['mae'])\n",
    "#Okay,now its time to learn something! We visualize the training gere for show,\n",
    "#but this slows down training quite a lot\n",
    "dqn.fit(env,nb_steps=5000,visualize=True,verbose=2)\n"
   ]
  },
  {
   "cell_type": "code",
   "execution_count": null,
   "metadata": {},
   "outputs": [],
   "source": []
  }
 ],
 "metadata": {
  "kernelspec": {
   "display_name": "Python 3",
   "language": "python",
   "name": "python3"
  },
  "language_info": {
   "codemirror_mode": {
    "name": "ipython",
    "version": 3
   },
   "file_extension": ".py",
   "mimetype": "text/x-python",
   "name": "python",
   "nbconvert_exporter": "python",
   "pygments_lexer": "ipython3",
   "version": "3.6.5"
  }
 },
 "nbformat": 4,
 "nbformat_minor": 2
}
